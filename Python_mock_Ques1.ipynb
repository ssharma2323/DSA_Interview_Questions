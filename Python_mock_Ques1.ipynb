{
 "cells": [
  {
   "cell_type": "code",
   "execution_count": 44,
   "id": "3c75b736",
   "metadata": {},
   "outputs": [],
   "source": [
    "def func(nums):\n",
    "    if len(nums)>=1 and len(nums)<=(10**4):\n",
    "        for i in range(len(nums)):\n",
    "            if nums[i]>=(-2)**31 and nums[i]<=(2**31)-1:\n",
    "                if nums[i]==0:\n",
    "                    del nums[i]\n",
    "                    nums.append(0)\n",
    "            else:\n",
    "                return \"constraint-2 couldn't be satisfied\"\n",
    "        return nums        \n",
    "    return \"constraint-1 couldn't be satisfied\"     \n",
    "    "
   ]
  },
  {
   "cell_type": "code",
   "execution_count": 45,
   "id": "d216cee1",
   "metadata": {},
   "outputs": [
    {
     "data": {
      "text/plain": [
       "[1, 3, 12, 0, 0]"
      ]
     },
     "execution_count": 45,
     "metadata": {},
     "output_type": "execute_result"
    }
   ],
   "source": [
    "func([0,1,0,3,12])"
   ]
  },
  {
   "cell_type": "code",
   "execution_count": 46,
   "id": "f2bd669b",
   "metadata": {},
   "outputs": [
    {
     "data": {
      "text/plain": [
       "\"constraint-2 couldn't be satisfied\""
      ]
     },
     "execution_count": 46,
     "metadata": {},
     "output_type": "execute_result"
    }
   ],
   "source": [
    "func([((-2)**31)-100,0,1,0,3,12])"
   ]
  },
  {
   "cell_type": "code",
   "execution_count": 47,
   "id": "d9556d19",
   "metadata": {},
   "outputs": [
    {
     "data": {
      "text/plain": [
       "\"constraint-1 couldn't be satisfied\""
      ]
     },
     "execution_count": 47,
     "metadata": {},
     "output_type": "execute_result"
    }
   ],
   "source": [
    "func([])"
   ]
  }
 ],
 "metadata": {
  "kernelspec": {
   "display_name": "Python 3 (ipykernel)",
   "language": "python",
   "name": "python3"
  },
  "language_info": {
   "codemirror_mode": {
    "name": "ipython",
    "version": 3
   },
   "file_extension": ".py",
   "mimetype": "text/x-python",
   "name": "python",
   "nbconvert_exporter": "python",
   "pygments_lexer": "ipython3",
   "version": "3.10.9"
  }
 },
 "nbformat": 4,
 "nbformat_minor": 5
}
