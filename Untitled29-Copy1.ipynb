{
 "cells": [
  {
   "cell_type": "code",
   "execution_count": 41,
   "id": "01556520",
   "metadata": {},
   "outputs": [],
   "source": [
    "from collections import Counter\n",
    "\n",
    "def func(s):\n",
    "    count=Counter(s)\n",
    "    for key,cnt in count.items():\n",
    "        if cnt==1:\n",
    "            return key\n",
    "    return 'string donot have any elemnts whose count is 1'    \n",
    "        \n",
    "    \n",
    "    "
   ]
  },
  {
   "cell_type": "code",
   "execution_count": 40,
   "id": "9f4e70ba",
   "metadata": {},
   "outputs": [
    {
     "data": {
      "text/plain": [
       "'d'"
      ]
     },
     "execution_count": 40,
     "metadata": {},
     "output_type": "execute_result"
    }
   ],
   "source": [
    "func('aabbccd')"
   ]
  },
  {
   "cell_type": "code",
   "execution_count": 42,
   "id": "58769e74",
   "metadata": {},
   "outputs": [
    {
     "data": {
      "text/plain": [
       "'string donot have any elemnts whose count is 1'"
      ]
     },
     "execution_count": 42,
     "metadata": {},
     "output_type": "execute_result"
    }
   ],
   "source": [
    "func('aabbccdd')"
   ]
  }
 ],
 "metadata": {
  "kernelspec": {
   "display_name": "Python 3 (ipykernel)",
   "language": "python",
   "name": "python3"
  },
  "language_info": {
   "codemirror_mode": {
    "name": "ipython",
    "version": 3
   },
   "file_extension": ".py",
   "mimetype": "text/x-python",
   "name": "python",
   "nbconvert_exporter": "python",
   "pygments_lexer": "ipython3",
   "version": "3.10.9"
  }
 },
 "nbformat": 4,
 "nbformat_minor": 5
}
